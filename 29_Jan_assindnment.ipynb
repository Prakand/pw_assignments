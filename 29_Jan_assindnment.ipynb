{
 "cells": [
  {
   "cell_type": "markdown",
   "id": "2588d2f7",
   "metadata": {},
   "source": [
    "### Question 1"
   ]
  },
  {
   "cell_type": "code",
   "execution_count": null,
   "id": "6c4c2ae2",
   "metadata": {},
   "outputs": [],
   "source": [
    "Guido van Rossum develop the python programming language."
   ]
  },
  {
   "cell_type": "markdown",
   "id": "cb6b19f3",
   "metadata": {},
   "source": [
    "### Question2"
   ]
  },
  {
   "cell_type": "code",
   "execution_count": null,
   "id": "a24b4535",
   "metadata": {},
   "outputs": [],
   "source": [
    "Python support Object oriented programming language."
   ]
  },
  {
   "cell_type": "markdown",
   "id": "c1015625",
   "metadata": {},
   "source": [
    "### Question 3"
   ]
  },
  {
   "cell_type": "code",
   "execution_count": null,
   "id": "e254041d",
   "metadata": {},
   "outputs": [],
   "source": [
    "Yes python is case-sensitive language"
   ]
  },
  {
   "cell_type": "markdown",
   "id": "e9d2367d",
   "metadata": {},
   "source": [
    "### Question 4"
   ]
  },
  {
   "cell_type": "code",
   "execution_count": null,
   "id": "c2fd5e9c",
   "metadata": {},
   "outputs": [],
   "source": [
    ".py is the correct extension to save puthon file."
   ]
  },
  {
   "cell_type": "markdown",
   "id": "d24cc3ab",
   "metadata": {},
   "source": [
    "### Question 5"
   ]
  },
  {
   "cell_type": "code",
   "execution_count": null,
   "id": "1f8994b4",
   "metadata": {},
   "outputs": [],
   "source": [
    "yes the code of python is interpreted."
   ]
  },
  {
   "cell_type": "markdown",
   "id": "75dec60c",
   "metadata": {},
   "source": [
    "### Questrion 6"
   ]
  },
  {
   "cell_type": "code",
   "execution_count": null,
   "id": "cdc16f13",
   "metadata": {},
   "outputs": [],
   "source": [
    "Braces{} use to define the block of code in python."
   ]
  },
  {
   "cell_type": "markdown",
   "id": "33e814df",
   "metadata": {},
   "source": [
    "### Question 7"
   ]
  },
  {
   "cell_type": "code",
   "execution_count": null,
   "id": "05db7e2d",
   "metadata": {},
   "outputs": [],
   "source": [
    "# is use to comment single line of code in python."
   ]
  },
  {
   "cell_type": "markdown",
   "id": "38ac6020",
   "metadata": {},
   "source": [
    "### Question 8"
   ]
  },
  {
   "cell_type": "code",
   "execution_count": null,
   "id": "aa0c6a2b",
   "metadata": {},
   "outputs": [],
   "source": [
    "sys.version"
   ]
  },
  {
   "cell_type": "markdown",
   "id": "bce413e5",
   "metadata": {},
   "source": [
    "### Question 9"
   ]
  },
  {
   "cell_type": "code",
   "execution_count": null,
   "id": "a3813047",
   "metadata": {},
   "outputs": [],
   "source": [
    "it uses constructors called \"lamda\" at runtime ."
   ]
  },
  {
   "cell_type": "markdown",
   "id": "8d42eb93",
   "metadata": {},
   "source": [
    "### Question 10"
   ]
  },
  {
   "cell_type": "code",
   "execution_count": null,
   "id": "cb17ae31",
   "metadata": {},
   "outputs": [],
   "source": [
    "pip stands for 'preffered installer program'."
   ]
  },
  {
   "cell_type": "markdown",
   "id": "79a99449",
   "metadata": {},
   "source": [
    "### Question 11"
   ]
  },
  {
   "cell_type": "code",
   "execution_count": null,
   "id": "96b0017b",
   "metadata": {},
   "outputs": [],
   "source": [
    "chr()\n",
    "bool()\n",
    "all()\n",
    "any()\n",
    "ascii()\n",
    "float()\n",
    "format()\n",
    "tuple()\n",
    "type()\n",
    "oct()\n",
    "these are the few buit in function in python."
   ]
  },
  {
   "cell_type": "markdown",
   "id": "d7934586",
   "metadata": {},
   "source": [
    "### Question 12"
   ]
  },
  {
   "cell_type": "code",
   "execution_count": null,
   "id": "9a2498fc",
   "metadata": {},
   "outputs": [],
   "source": [
    "79 character possible length in python."
   ]
  },
  {
   "cell_type": "markdown",
   "id": "9b863609",
   "metadata": {},
   "source": [
    "### Question 13"
   ]
  },
  {
   "cell_type": "code",
   "execution_count": null,
   "id": "d4e256f8",
   "metadata": {},
   "outputs": [],
   "source": [
    "dynamically typed\n",
    "syntax is easy\n",
    "reliable\n",
    "easy to understand\n",
    "oops supported\n",
    "python is interpreted language"
   ]
  },
  {
   "cell_type": "markdown",
   "id": "7c04b803",
   "metadata": {},
   "source": [
    "### Question 14\n"
   ]
  },
  {
   "cell_type": "code",
   "execution_count": null,
   "id": "dc94cbac",
   "metadata": {},
   "outputs": [],
   "source": [
    "1.Go to python.org\n",
    "2.click on download\n",
    "3.open python.exe file in file manager\n",
    "4.click on install\n",
    "5.tick the option add to path\n"
   ]
  },
  {
   "cell_type": "markdown",
   "id": "1583c6c6",
   "metadata": {},
   "source": [
    "### Question 15"
   ]
  },
  {
   "cell_type": "code",
   "execution_count": null,
   "id": "e9add7a1",
   "metadata": {},
   "outputs": [],
   "source": [
    " Python memory manager manages the allocation or de-allocation of the heap memory space through the API functions."
   ]
  },
  {
   "cell_type": "markdown",
   "id": "e087cbb2",
   "metadata": {},
   "source": [
    "### Question 16"
   ]
  },
  {
   "cell_type": "code",
   "execution_count": null,
   "id": "2b34f7a0",
   "metadata": {},
   "outputs": [],
   "source": [
    "yes indentation is very necessary in python because it give error without it."
   ]
  }
 ],
 "metadata": {
  "kernelspec": {
   "display_name": "Python 3 (ipykernel)",
   "language": "python",
   "name": "python3"
  },
  "language_info": {
   "codemirror_mode": {
    "name": "ipython",
    "version": 3
   },
   "file_extension": ".py",
   "mimetype": "text/x-python",
   "name": "python",
   "nbconvert_exporter": "python",
   "pygments_lexer": "ipython3",
   "version": "3.9.13"
  }
 },
 "nbformat": 4,
 "nbformat_minor": 5
}
