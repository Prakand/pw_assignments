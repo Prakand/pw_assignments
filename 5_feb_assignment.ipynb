{
 "cells": [
  {
   "cell_type": "markdown",
   "id": "da163f96",
   "metadata": {},
   "source": [
    "### Question 1"
   ]
  },
  {
   "cell_type": "code",
   "execution_count": null,
   "id": "7606769f",
   "metadata": {},
   "outputs": [],
   "source": [
    "Python is an object oriented programming language. Almost everything in Python is an object, with its properties and methods. \n",
    "A Class is like an object constructor, or a \"blueprint\" for creating objects.\n",
    "\n",
    "An object is called an instance of a class. For example, suppose Bike is a class then we can create objects like bike1 , bike2 , etc from the class."
   ]
  },
  {
   "cell_type": "code",
   "execution_count": 2,
   "id": "34306ce0",
   "metadata": {},
   "outputs": [
    {
     "name": "stdout",
     "output_type": "stream",
     "text": [
      "Hello, my name is Nikhil\n"
     ]
    }
   ],
   "source": [
    "class Person:\n",
    " \n",
    "    # init method or constructor\n",
    "    def __init__(self, name):\n",
    "        self.name = name\n",
    " \n",
    "    # Sample Method\n",
    "    def say_hi(self):\n",
    "        print('Hello, my name is', self.name)\n",
    " \n",
    " \n",
    "p = Person('Nikhil')\n",
    "p.say_hi()"
   ]
  },
  {
   "cell_type": "markdown",
   "id": "33f43289",
   "metadata": {},
   "source": [
    "### Question 2"
   ]
  },
  {
   "cell_type": "code",
   "execution_count": null,
   "id": "8cebee6d",
   "metadata": {},
   "outputs": [],
   "source": [
    "These are main four pillars in python:\n",
    "1.Abstraction.\n",
    "2.Inheritance.\n",
    "3.Polymorphism.\n",
    "4.Encapsulation."
   ]
  },
  {
   "cell_type": "markdown",
   "id": "265a17d1",
   "metadata": {},
   "source": [
    "### Question 3"
   ]
  },
  {
   "cell_type": "code",
   "execution_count": null,
   "id": "67535819",
   "metadata": {},
   "outputs": [],
   "source": [
    "The __init__() function is called automatically every time the class is being used to create a new object.\n",
    "It is also called constructor."
   ]
  },
  {
   "cell_type": "code",
   "execution_count": 3,
   "id": "4e4c4ec6",
   "metadata": {},
   "outputs": [
    {
     "name": "stdout",
     "output_type": "stream",
     "text": [
      "John\n",
      "36\n"
     ]
    }
   ],
   "source": [
    "class Person:\n",
    "  def __init__(self, name, age):\n",
    "    self.name = name\n",
    "    self.age = age\n",
    "\n",
    "p1 = Person(\"John\", 36)\n",
    "\n",
    "print(p1.name)\n",
    "print(p1.age)"
   ]
  },
  {
   "cell_type": "markdown",
   "id": "47945e64",
   "metadata": {},
   "source": [
    "### Question 4"
   ]
  },
  {
   "cell_type": "code",
   "execution_count": null,
   "id": "94a6dbb3",
   "metadata": {},
   "outputs": [],
   "source": [
    "self represents the instance of the class. By using the “self”  we can access the attributes and methods of the class in python. \n",
    "It binds the attributes with the given arguments."
   ]
  },
  {
   "cell_type": "markdown",
   "id": "f6e0fb4c",
   "metadata": {},
   "source": [
    "### Question 5"
   ]
  },
  {
   "cell_type": "code",
   "execution_count": null,
   "id": "9a9bc85c",
   "metadata": {},
   "outputs": [],
   "source": [
    "Python is an Object-Oriented Programming language and one of the features of Object-Oriented Programming is Inheritance.\n",
    "Inheritance is the ability of one class to inherit another class. \n",
    "Inheritance provides reusability of code and allows us to create complex and real-world-like relationships among objects.\n",
    "\n",
    "There are four types of inheritance in python:"
   ]
  },
  {
   "cell_type": "code",
   "execution_count": 4,
   "id": "d2434427",
   "metadata": {},
   "outputs": [
    {
     "name": "stdout",
     "output_type": "stream",
     "text": [
      "John is a Professor\n"
     ]
    }
   ],
   "source": [
    "# 1.Single inheritance\n",
    "#Example:\n",
    "class Person:\n",
    "\n",
    "    def __init__(self, name, age):\n",
    "        self.name = name\n",
    "        self.age = age\n",
    "\n",
    "class Professor(Person):\n",
    "\n",
    "    def isProfessor(self):\n",
    "        return f\"{self.name} is a Professor\"\n",
    "\n",
    "sir = Professor(\"John\", 30)\n",
    "\n",
    "print(sir.isProfessor())"
   ]
  },
  {
   "cell_type": "code",
   "execution_count": 5,
   "id": "dbfb88db",
   "metadata": {},
   "outputs": [
    {
     "name": "stdout",
     "output_type": "stream",
     "text": [
      "8\n"
     ]
    }
   ],
   "source": [
    "# 2.Multiple inheritance\n",
    "\n",
    "\n",
    "class SuperClass1:\n",
    "    num1 = 3\n",
    "\n",
    "class SuperClass2:\n",
    "    num2 = 5\n",
    "\n",
    "class SubClass( SuperClass1, SuperClass2):\n",
    "    def addition(self):\n",
    "        return self.num1 + self.num2\n",
    "\n",
    "obj = SubClass()\n",
    "print(obj.addition()) "
   ]
  },
  {
   "cell_type": "code",
   "execution_count": 6,
   "id": "b5f68b23",
   "metadata": {},
   "outputs": [
    {
     "name": "stdout",
     "output_type": "stream",
     "text": [
      "PythonGeeks\n"
     ]
    }
   ],
   "source": [
    "# 3.Multilevel inheritance\n",
    "\n",
    "class Parent:\n",
    "    str1 = \"Python\"\n",
    "\n",
    "class Child(Parent):\n",
    "    str2 = \"Geeks\"\n",
    "\n",
    "class GrandChild(Child):\n",
    "\n",
    "    def get_str(self):\n",
    "        print(self.str1 + self.str2)\n",
    "\n",
    "person = GrandChild()\n",
    "person.get_str()"
   ]
  },
  {
   "cell_type": "code",
   "execution_count": 7,
   "id": "182eca44",
   "metadata": {},
   "outputs": [
    {
     "name": "stdout",
     "output_type": "stream",
     "text": [
      "3 3 3\n"
     ]
    }
   ],
   "source": [
    "# 4.Hierarchical inheritance\n",
    "\n",
    "class SuperClass:\n",
    "    x = 3\n",
    "class SubClass1(SuperClass):\n",
    "    pass\n",
    "class SubClass2(SuperClass):\n",
    "    pass\n",
    "class SubClass3(SuperClass):\n",
    "    pass\n",
    "a = SubClass1()\n",
    "b = SubClass2()\n",
    "c = SubClass3()\n",
    "print(a.x, b.x, c.x)"
   ]
  },
  {
   "cell_type": "code",
   "execution_count": null,
   "id": "d73ad7bc",
   "metadata": {},
   "outputs": [],
   "source": []
  }
 ],
 "metadata": {
  "kernelspec": {
   "display_name": "Python 3 (ipykernel)",
   "language": "python",
   "name": "python3"
  },
  "language_info": {
   "codemirror_mode": {
    "name": "ipython",
    "version": 3
   },
   "file_extension": ".py",
   "mimetype": "text/x-python",
   "name": "python",
   "nbconvert_exporter": "python",
   "pygments_lexer": "ipython3",
   "version": "3.9.7"
  }
 },
 "nbformat": 4,
 "nbformat_minor": 5
}
