{
 "cells": [
  {
   "cell_type": "markdown",
   "id": "8e625ad2-7234-4bc1-a12e-a92e5c2b6772",
   "metadata": {},
   "source": [
    "### Question 1"
   ]
  },
  {
   "cell_type": "code",
   "execution_count": 1,
   "id": "ade1963b-b871-499d-9b5a-ec696f693f3b",
   "metadata": {},
   "outputs": [],
   "source": [
    "class Vehicle:\n",
    "    def __init__(self,name_of_vehicle,max_speed,average_of_vehicle):\n",
    "        self.name_of_vehicle=name_of_vehicle\n",
    "        self.max_speed=max_speed\n",
    "        self.average_of_vehicle=average_of_vehicle\n",
    "    "
   ]
  },
  {
   "cell_type": "markdown",
   "id": "fa76a303-432c-417d-979b-8956cbd26576",
   "metadata": {},
   "source": [
    "### Question 2"
   ]
  },
  {
   "cell_type": "code",
   "execution_count": 9,
   "id": "65ccc00a-c8cf-48c1-bb13-6a4692874635",
   "metadata": {},
   "outputs": [
    {
     "data": {
      "text/plain": [
       "'Name of Vehicle: maruti\\nSeating Capacity: 4'"
      ]
     },
     "execution_count": 9,
     "metadata": {},
     "output_type": "execute_result"
    }
   ],
   "source": [
    "class Vehicle:\n",
    "    def __init__(self, name_of_vehicle, max_speed, average_of_vehicle):\n",
    "        self.name_of_vehicle = name_of_vehicle\n",
    "        self.max_speed = max_speed\n",
    "        self.average_of_vehicle = average_of_vehicle\n",
    "\n",
    "class Car(Vehicle):\n",
    "    def seating_capacity(self, capacity):\n",
    "        return f\"Name of Vehicle: {self.name_of_vehicle}\\nSeating Capacity: {capacity}\"\n",
    "cr=Vehicle('tata',120,20)\n",
    "mycar=Car('maruti',120,20)\n",
    "mycar.seating_capacity(4)"
   ]
  },
  {
   "cell_type": "markdown",
   "id": "b97c85fd-3d3c-4145-abb0-e41b749b4944",
   "metadata": {},
   "source": [
    "### Question 3"
   ]
  },
  {
   "cell_type": "code",
   "execution_count": null,
   "id": "dfd62b6a-2ee3-4142-aab3-d67dc41caeeb",
   "metadata": {},
   "outputs": [],
   "source": [
    "# multiple inheritence\n",
    "Multiple inheritance refers to a mechanism in object-oriented programming where a single class can inherit properties \n",
    "and behaviors from multiple parent classes"
   ]
  },
  {
   "cell_type": "code",
   "execution_count": 13,
   "id": "bb41d965-7402-4d15-8247-e0f57f937e15",
   "metadata": {},
   "outputs": [
    {
     "name": "stdout",
     "output_type": "stream",
     "text": [
      "Parent1 Method1\n",
      "Parent2 Method2\n"
     ]
    }
   ],
   "source": [
    "class Parent1:\n",
    "    def method1(self):\n",
    "        print(\"Parent1 Method1\")\n",
    "        \n",
    "class Parent2:\n",
    "    def method2(self):\n",
    "        print(\"Parent2 Method2\")\n",
    "        \n",
    "class Child(Parent1, Parent2):\n",
    "    pass\n",
    "\n",
    "\n",
    "obj = Child()\n",
    "\n",
    "obj.method1()\n",
    "\n",
    "obj.method2()\n",
    "\n",
    "\n"
   ]
  },
  {
   "cell_type": "markdown",
   "id": "79314afa-4074-4438-b5f8-f120619f0d47",
   "metadata": {},
   "source": [
    "### Question 4"
   ]
  },
  {
   "cell_type": "code",
   "execution_count": null,
   "id": "2db13d05-e288-49c2-925b-354c8ab57d54",
   "metadata": {},
   "outputs": [],
   "source": [
    "Getters and setters are used to access and modify the values of class properties. \n",
    "They are methods that are used to access and change the values of an object's properties"
   ]
  },
  {
   "cell_type": "code",
   "execution_count": 14,
   "id": "b644a11e-f130-43fc-ab2a-5c6190b49cfb",
   "metadata": {},
   "outputs": [
    {
     "name": "stdout",
     "output_type": "stream",
     "text": [
      "5\n",
      "10\n"
     ]
    }
   ],
   "source": [
    "class Example:\n",
    "    def __init__(self, value):\n",
    "        self.__value = value\n",
    "\n",
    "    def get_value(self):\n",
    "        return self.__value\n",
    "\n",
    "    def set_value(self, value):\n",
    "        self.__value = value\n",
    "\n",
    "example_object = Example(5)\n",
    "print(example_object.get_value()) # 5\n",
    "\n",
    "example_object.set_value(10)\n",
    "print(example_object.get_value()) # 10\n"
   ]
  },
  {
   "cell_type": "markdown",
   "id": "583d15d0-2197-4a21-ac28-ea3b70195a8b",
   "metadata": {},
   "source": [
    "### Question 5"
   ]
  },
  {
   "cell_type": "code",
   "execution_count": null,
   "id": "035abaec-b027-465a-b527-4808028f4bc8",
   "metadata": {},
   "outputs": [],
   "source": [
    "Method Overriding in Python is a feature in object-oriented programming that allows a subclass to provide a different implementation\n",
    "for a method that is already provided in its parent class"
   ]
  },
  {
   "cell_type": "code",
   "execution_count": 15,
   "id": "883cce02-7e7f-46b8-9369-9e26f46a62a8",
   "metadata": {},
   "outputs": [
    {
     "name": "stdout",
     "output_type": "stream",
     "text": [
      "Dogs can walk and run\n"
     ]
    }
   ],
   "source": [
    "class Animal:\n",
    "    def move(self):\n",
    "        print(\"Animals can move\")\n",
    " \n",
    "class Dog(Animal):\n",
    "    def move(self):\n",
    "        print(\"Dogs can walk and run\")\n",
    " \n",
    "dog = Dog()\n",
    "dog.move()\n"
   ]
  },
  {
   "cell_type": "code",
   "execution_count": null,
   "id": "6a02d6df-aa3a-4e19-9da5-41575621f73c",
   "metadata": {},
   "outputs": [],
   "source": []
  }
 ],
 "metadata": {
  "kernelspec": {
   "display_name": "Python 3 (ipykernel)",
   "language": "python",
   "name": "python3"
  },
  "language_info": {
   "codemirror_mode": {
    "name": "ipython",
    "version": 3
   },
   "file_extension": ".py",
   "mimetype": "text/x-python",
   "name": "python",
   "nbconvert_exporter": "python",
   "pygments_lexer": "ipython3",
   "version": "3.10.8"
  }
 },
 "nbformat": 4,
 "nbformat_minor": 5
}
