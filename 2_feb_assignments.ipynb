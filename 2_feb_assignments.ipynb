{
 "cells": [
  {
   "cell_type": "markdown",
   "id": "b8b8950e",
   "metadata": {},
   "source": [
    "### Question 1"
   ]
  },
  {
   "cell_type": "code",
   "execution_count": null,
   "id": "c9b14f11",
   "metadata": {},
   "outputs": [],
   "source": [
    "# use of for loop\n",
    "The for loop is used when we already know the number of iterations, which means when we know how many times a statement has to be executed.\n",
    "That is why we have to specify the ending point in the for loop initialization.\n",
    "# use of while loop\n",
    "When we need to end the loop on a condition other than the number of times, we use a while loop."
   ]
  },
  {
   "cell_type": "markdown",
   "id": "1086e8fc",
   "metadata": {},
   "source": [
    "### Question 2"
   ]
  },
  {
   "cell_type": "code",
   "execution_count": 2,
   "id": "55b063b8",
   "metadata": {},
   "outputs": [
    {
     "name": "stdout",
     "output_type": "stream",
     "text": [
      "The sum is 55\n"
     ]
    }
   ],
   "source": [
    "# Sum of natural numbers up to num\n",
    "\n",
    "num = 10\n",
    "\n",
    "if num < 0:\n",
    "   print(\"Enter a positive number\")\n",
    "else:\n",
    "   sum = 0\n",
    "   # use while loop to iterate until zero\n",
    "   while(num > 0):\n",
    "       sum += num\n",
    "       num -= 1\n",
    "   print(\"The sum is\", sum)\n"
   ]
  },
  {
   "cell_type": "code",
   "execution_count": 6,
   "id": "9cb87149",
   "metadata": {},
   "outputs": [
    {
     "name": "stdout",
     "output_type": "stream",
     "text": [
      "Sum of first  10 numbers is:  55\n"
     ]
    }
   ],
   "source": [
    "# n = int(input(\"Enter number\"))\n",
    "sum = 0\n",
    "# loop from 1 to 10\n",
    "for num in range(1, 11, 1):\n",
    "    sum = sum + num\n",
    "print(\"Sum of first \", 10, \"numbers is: \", sum)\n",
    "        "
   ]
  },
  {
   "cell_type": "markdown",
   "id": "53cba1ae",
   "metadata": {},
   "source": [
    "### Question 3"
   ]
  },
  {
   "cell_type": "code",
   "execution_count": 27,
   "id": "23258484",
   "metadata": {},
   "outputs": [
    {
     "name": "stdout",
     "output_type": "stream",
     "text": [
      "Enter the unit of electricity bill per month: 310\n",
      "Your Electricty bill is 6200\n"
     ]
    }
   ],
   "source": [
    "units=int(input(\"Enter the unit of electricity bill per month: \"))\n",
    "if units <=100:\n",
    "    eb = units*4.5\n",
    "    print(f\"Your Electricity bill is {eb}\")\n",
    "elif units >101 and units<=200:\n",
    "    eb = units*6\n",
    "    print(f\"Your Electricity bill is {eb}\")\n",
    "elif units >201 and units<=300:\n",
    "    eb = units*10\n",
    "    print(f\"Your Electricity bill is {eb}\")\n",
    "else:\n",
    "    eb = units*20\n",
    "    print(f\"Your Electricty bill is {eb}\")\n",
    "    "
   ]
  },
  {
   "cell_type": "markdown",
   "id": "dc65ca38",
   "metadata": {},
   "source": [
    "### Question 4"
   ]
  },
  {
   "cell_type": "code",
   "execution_count": 34,
   "id": "2d4a277c",
   "metadata": {},
   "outputs": [
    {
     "name": "stdout",
     "output_type": "stream",
     "text": [
      "[2, 4, 5, 6, 8, 10, 12, 14, 15, 16, 18, 20, 22, 24, 25, 26, 28, 30, 32, 34, 35, 36, 38, 40, 42, 44, 45, 46, 48, 50, 52, 54, 55, 56, 58, 60, 62, 64, 65, 66, 68, 70, 72, 74, 75, 76, 78, 80, 82, 84, 85, 86, 88, 90, 92, 94, 95, 96, 98, 100]\n"
     ]
    }
   ],
   "source": [
    "# using for loop\n",
    "result=[]\n",
    "for i in range(1,101):\n",
    "    cube = i**3\n",
    "    if cube%4==0 or cube % 5 ==0:\n",
    "        result.append(i)\n",
    "print(result)"
   ]
  },
  {
   "cell_type": "code",
   "execution_count": 35,
   "id": "9110d35b",
   "metadata": {},
   "outputs": [
    {
     "name": "stdout",
     "output_type": "stream",
     "text": [
      "[2, 4, 5, 6, 8, 10, 12, 14, 15, 16, 18, 20, 22, 24, 25, 26, 28, 30, 32, 34, 35, 36, 38, 40, 42, 44, 45, 46, 48, 50, 52, 54, 55, 56, 58, 60, 62, 64, 65, 66, 68, 70, 72, 74, 75, 76, 78, 80, 82, 84, 85, 86, 88, 90, 92, 94, 95, 96, 98, 100]\n"
     ]
    }
   ],
   "source": [
    "# Using a while loop\n",
    "result = []\n",
    "i = 1\n",
    "while i <= 100:\n",
    "    cube = i**3\n",
    "    if cube % 4 == 0 or cube % 5 == 0:\n",
    "        result.append(i)\n",
    "    i += 1\n",
    "\n",
    "print(result)"
   ]
  },
  {
   "cell_type": "markdown",
   "id": "0e38b0d7",
   "metadata": {},
   "source": [
    "### Question 5"
   ]
  },
  {
   "cell_type": "code",
   "execution_count": 40,
   "id": "0982967b",
   "metadata": {},
   "outputs": [
    {
     "name": "stdout",
     "output_type": "stream",
     "text": [
      "Enter the string:I want to become a data scientist\n",
      "Totel vowels are:12\n"
     ]
    }
   ],
   "source": [
    "string = input(\"Enter the string:\")\n",
    "count=0\n",
    "string=string.lower()\n",
    "for i in string:\n",
    "    if i=='a'or i=='e' or i=='i' or i=='o' or i=='u':\n",
    "        count+=1\n",
    "if count ==0:\n",
    "    print(\"No vowels found\")\n",
    "else:\n",
    "    print(\"Totel vowels are:\"+str(count))\n",
    "        \n",
    "        "
   ]
  },
  {
   "cell_type": "code",
   "execution_count": null,
   "id": "34d7e4da",
   "metadata": {},
   "outputs": [],
   "source": []
  }
 ],
 "metadata": {
  "kernelspec": {
   "display_name": "Python 3 (ipykernel)",
   "language": "python",
   "name": "python3"
  },
  "language_info": {
   "codemirror_mode": {
    "name": "ipython",
    "version": 3
   },
   "file_extension": ".py",
   "mimetype": "text/x-python",
   "name": "python",
   "nbconvert_exporter": "python",
   "pygments_lexer": "ipython3",
   "version": "3.9.7"
  }
 },
 "nbformat": 4,
 "nbformat_minor": 5
}
