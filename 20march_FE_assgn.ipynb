{
 "cells": [
  {
   "cell_type": "markdown",
   "id": "3c482ae1-8710-4d09-b5e3-46ed94d84f40",
   "metadata": {},
   "source": [
    "### Question 1"
   ]
  },
  {
   "cell_type": "code",
   "execution_count": null,
   "id": "509cfecd-e76e-4479-a1a8-628fe3d612f9",
   "metadata": {},
   "outputs": [],
   "source": [
    "Data encoding is the process of converting data from one format to another. In data science, data encoding\n",
    "is used to transform categorical data into numerical data that can be processed by machine learning \n",
    "algorithms. Categorical data consists of discrete values that do not have any inherent numerical meaning, \n",
    "such as names, colors, or categories.\n",
    "\n",
    "# why it is important\n",
    "data encoding is essential in data science because it enables the analysis and processing of categorical\n",
    "data with machine learning algorithms, which often require numerical data as inputs"
   ]
  },
  {
   "cell_type": "markdown",
   "id": "66f167e4-64ff-407a-99c6-aad6f0c6913a",
   "metadata": {},
   "source": [
    "### Question 2"
   ]
  },
  {
   "cell_type": "code",
   "execution_count": null,
   "id": "429f18f0-f298-4a13-ab3b-2538a74e562f",
   "metadata": {},
   "outputs": [],
   "source": [
    "Nominal encoding is a type of categorical variable encoding that assigns unique numerical values to each \n",
    "category in a feature, without any ordering or ranking of the categories. In nominal encoding, each category\n",
    "is assigned a unique value, making it easy for machine learning models to interpret the data."
   ]
  },
  {
   "cell_type": "code",
   "execution_count": null,
   "id": "6579dd15-02cc-4530-b6c0-8437f822fc4d",
   "metadata": {},
   "outputs": [],
   "source": [
    "Nominal encoding can be used to assign unique numerical values to each of these categories, such \n",
    "as \"married\" = 1, \"single\" = 2, and \"divorced\" = 3"
   ]
  },
  {
   "cell_type": "markdown",
   "id": "b13297a7-df9f-431c-b505-9cadb9503678",
   "metadata": {},
   "source": [
    "### Question 3"
   ]
  },
  {
   "cell_type": "code",
   "execution_count": null,
   "id": "50e1ddce-d018-4f8f-a4d5-47d878b45869",
   "metadata": {},
   "outputs": [],
   "source": [
    "Nominal encoding is preferred over one-hot encoding when the number of unique categories in a categorical \n",
    "feature is very high. In such cases, one-hot encoding can lead to the curse of dimensionality, resulting \n",
    "in a high number of features, which can cause computational issues, and may even result in overfitting of \n",
    "the model."
   ]
  },
  {
   "cell_type": "code",
   "execution_count": null,
   "id": "d1268add-2be0-49e6-ae0a-c5baac48dacf",
   "metadata": {},
   "outputs": [],
   "source": [
    "# example\n",
    "consider a dataset of customer transactions where the categorical feature is \"Product,\" and it has 1000\n",
    "unique products. Using one-hot encoding, we would have to create 1000 columns, which can make the dataset\n",
    "too large, and this can result in the model taking too long to train. In this case, nominal encoding can be \n",
    "used to assign a unique integer value to each product, reducing the number of features to just one."
   ]
  },
  {
   "cell_type": "markdown",
   "id": "65915a8b-482b-46d3-9491-6dcb397544db",
   "metadata": {},
   "source": [
    "### Question 4"
   ]
  },
  {
   "cell_type": "code",
   "execution_count": null,
   "id": "ab0893f9-7660-42d0-bc4c-6817f65e3411",
   "metadata": {},
   "outputs": [],
   "source": [
    "If the categorical data has only 5 unique values, it can be encoded using either nominal encoding or \n",
    "one-hot encoding. The choice between the two encoding techniques depends on the nature of the data and the\n",
    "machine learning algorithm being used."
   ]
  },
  {
   "cell_type": "code",
   "execution_count": null,
   "id": "59a1bf91-e4bd-4a06-9c51-b5cd5776d454",
   "metadata": {},
   "outputs": [],
   "source": [
    "If the categorical variable has a natural ordering or hierarchy, such as \"low\", \"medium\", \"high\", nominal \n",
    "encoding may be preferred over one-hot encoding. On the other hand, if there is no inherent order or \n",
    "hierarchy to the categories, one-hot encoding may be more appropriate."
   ]
  },
  {
   "cell_type": "markdown",
   "id": "a965718a-de4f-4e6f-8849-de03d4678a8c",
   "metadata": {},
   "source": [
    "### Question 5"
   ]
  },
  {
   "cell_type": "code",
   "execution_count": null,
   "id": "2ebcc891-669c-45f9-aed2-e1dd11069872",
   "metadata": {},
   "outputs": [],
   "source": [
    "If we use nominal encoding to transform the two categorical columns, the number of new columns created will\n",
    "depend on the number of unique categories in each categorical column.\n",
    "\n",
    "Let's assume that the first categorical column has 4 unique categories and the second categorical column \n",
    "has 6 unique categories.\n",
    "\n",
    "Using nominal encoding, we would create a new column for each unique category in each categorical column. \n",
    "Therefore, we would create 4 new columns for the first categorical column and 6 new columns for the second\n",
    "categorical column.\n",
    "\n",
    "Thus, in total, we would create 4 + 6 = 10 new columns to represent the two categorical columns using \n",
    "nominal encoding."
   ]
  },
  {
   "cell_type": "markdown",
   "id": "552adbf7-01e0-429a-a15d-111bb8a2a8e0",
   "metadata": {},
   "source": [
    "### Questionn 6"
   ]
  },
  {
   "cell_type": "code",
   "execution_count": null,
   "id": "16d64142-5292-4bd3-b900-be7dc219a351",
   "metadata": {},
   "outputs": [],
   "source": [
    "The choice of encoding technique depends on the nature and cardinality of the categorical features.\n",
    "One-hot encoding is a commonly used technique for transforming categorical data into a format suitable for \n",
    "machine learning algorithms. It involves creating a new binary feature for each unique category value in\n",
    "the original feature, where each binary feature indicates the presence or absence of the corresponding \n",
    "category value for a given observation."
   ]
  },
  {
   "cell_type": "code",
   "execution_count": null,
   "id": "2e054014-446c-4b0d-b921-17ae3c0f81c0",
   "metadata": {},
   "outputs": [],
   "source": [
    "there may be many unique values, making one-hot encoding a suitable technique for transforming the \n",
    "categorical data. This would involve creating a binary feature for each unique species value, indicating \n",
    "whether an observation corresponds to that particular species or not"
   ]
  },
  {
   "cell_type": "code",
   "execution_count": null,
   "id": "133ea0e8-5779-474d-b6c8-61ebe72504dc",
   "metadata": {},
   "outputs": [],
   "source": []
  },
  {
   "cell_type": "code",
   "execution_count": null,
   "id": "80e93da0-f3ed-4a58-b394-962f46cd6274",
   "metadata": {},
   "outputs": [],
   "source": []
  }
 ],
 "metadata": {
  "kernelspec": {
   "display_name": "Python 3 (ipykernel)",
   "language": "python",
   "name": "python3"
  },
  "language_info": {
   "codemirror_mode": {
    "name": "ipython",
    "version": 3
   },
   "file_extension": ".py",
   "mimetype": "text/x-python",
   "name": "python",
   "nbconvert_exporter": "python",
   "pygments_lexer": "ipython3",
   "version": "3.10.8"
  }
 },
 "nbformat": 4,
 "nbformat_minor": 5
}
