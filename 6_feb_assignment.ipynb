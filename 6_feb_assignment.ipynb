{
 "cells": [
  {
   "cell_type": "markdown",
   "id": "e55dc97e",
   "metadata": {},
   "source": [
    "### Question 1"
   ]
  },
  {
   "cell_type": "code",
   "execution_count": 1,
   "id": "be37c4e8",
   "metadata": {},
   "outputs": [
    {
     "name": "stdout",
     "output_type": "stream",
     "text": [
      "689118639831180913138973540352000\n"
     ]
    }
   ],
   "source": [
    "def product_of_all_numbers(lst):\n",
    "    flat_list = []\n",
    "    for i in lst:\n",
    "        if type(i) in [int, float]:\n",
    "            flat_list.append(i)\n",
    "        elif type(i) == list:\n",
    "            for j in i:\n",
    "                if type(j) in [int, float]:\n",
    "                    flat_list.append(j)\n",
    "                elif type(j) == tuple:\n",
    "                    for k in j:\n",
    "                        if type(k) in [int, float]:\n",
    "                            flat_list.append(k)\n",
    "                elif type(j) == dict:\n",
    "                    for key, value in j.items():\n",
    "                        if type(key) in [int, float]:\n",
    "                            flat_list.append(key)\n",
    "                        if type(value) in [int, float]:\n",
    "                            flat_list.append(value)\n",
    "                        if type(value) == list:\n",
    "                            for m in value:\n",
    "                                if type(m) in [int, float]:\n",
    "                                    flat_list.append(m)\n",
    "                        if type(value) == tuple:\n",
    "                            for n in value:\n",
    "                                if type(n) in [int, float]:\n",
    "                                    flat_list.append(n)\n",
    "        elif type(i) == tuple:\n",
    "            for j in i:\n",
    "                if type(j) in [int, float]:\n",
    "                    flat_list.append(j)\n",
    "        elif type(i) == dict:\n",
    "            for key, value in i.items():\n",
    "                if type(key) in [int, float]:\n",
    "                    flat_list.append(key)\n",
    "                if type(value) in [int, float]:\n",
    "                    flat_list.append(value)\n",
    "                if type(value) == list:\n",
    "                    for m in value:\n",
    "                        if type(m) in [int, float]:\n",
    "                            flat_list.append(m)\n",
    "                if type(value) == tuple:\n",
    "                    for n in value:\n",
    "                        if type(n) in [int, float]:\n",
    "                            flat_list.append(n)\n",
    "    product = 1\n",
    "    for i in flat_list:\n",
    "        product *= i\n",
    "    return product\n",
    "\n",
    "# Example usage:\n",
    "list1 = [1,2,3,4, [44,55,66, True], False, (34,56,78,89,34), {1,2,3,3,2,1}, {1:34, \"key2\": [55, 67, 78, 89], 4: (45, 22, 61, 34)}, [56, 'data science'], 'Machine Learning']\n",
    "print(product_of_all_numbers(list1))\n"
   ]
  },
  {
   "cell_type": "markdown",
   "id": "7853ad21",
   "metadata": {},
   "source": [
    "### Question 2"
   ]
  },
  {
   "cell_type": "code",
   "execution_count": 2,
   "id": "83e014d7",
   "metadata": {},
   "outputs": [
    {
     "name": "stdout",
     "output_type": "stream",
     "text": [
      "r$dzmg$gl$yvxlnv$z$wzgz$hxrvmgrhg\n"
     ]
    }
   ],
   "source": [
    "def encrypt_message(message):\n",
    "    message = message.lower()\n",
    "    translate_table = str.maketrans(\"abcdefghijklmnopqrstuvwxyz\", \"zyxwvutsrqponmlkjihgfedcba\")\n",
    "    message = message.translate(translate_table)\n",
    "    message = message.replace(\" \", \"$\")\n",
    "    return message\n",
    "\n",
    "input_sentence = \"I want to become a Data Scientist\"\n",
    "encrypted_message = encrypt_message(input_sentence)\n",
    "print(encrypted_message)\n"
   ]
  },
  {
   "cell_type": "code",
   "execution_count": null,
   "id": "e2d16561",
   "metadata": {},
   "outputs": [],
   "source": []
  }
 ],
 "metadata": {
  "kernelspec": {
   "display_name": "Python 3 (ipykernel)",
   "language": "python",
   "name": "python3"
  },
  "language_info": {
   "codemirror_mode": {
    "name": "ipython",
    "version": 3
   },
   "file_extension": ".py",
   "mimetype": "text/x-python",
   "name": "python",
   "nbconvert_exporter": "python",
   "pygments_lexer": "ipython3",
   "version": "3.9.7"
  }
 },
 "nbformat": 4,
 "nbformat_minor": 5
}
