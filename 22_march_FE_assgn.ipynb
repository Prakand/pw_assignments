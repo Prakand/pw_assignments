{
 "cells": [
  {
   "cell_type": "markdown",
   "id": "6f811ce5-3b1f-4f24-8437-d3cda2eb797f",
   "metadata": {},
   "source": [
    "### Question 1"
   ]
  },
  {
   "cell_type": "code",
   "execution_count": null,
   "id": "4de58d0c-bb3c-4e63-aec4-e925de1cea8e",
   "metadata": {},
   "outputs": [],
   "source": [
    "To calculate the Pearson correlation coefficient between two variables, we need to use the following formula:\n",
    "\n",
    "r = (nΣxy - ΣxΣy) / sqrt[(nΣx^2 - (Σx)^2)(nΣy^2 - (Σy)^2)]\n",
    "\n",
    "where:\n",
    "\n",
    "r is the Pearson correlation coefficient\n",
    "n is the number of data points\n",
    "Σxy is the sum of the products of x and y\n",
    "Σx and Σy are the sums of x and y, respectively\n",
    "Σx^2 and Σy^2 are the sums of the squares of x and y, respectively."
   ]
  },
  {
   "cell_type": "code",
   "execution_count": 1,
   "id": "100abe1a-52fd-41c0-a93e-8afd7dbc7198",
   "metadata": {},
   "outputs": [
    {
     "name": "stdout",
     "output_type": "stream",
     "text": [
      "Pearson correlation coefficient:  1.0\n"
     ]
    }
   ],
   "source": [
    "# exapmle\n",
    "import pandas as pd\n",
    "\n",
    "df = pd.DataFrame({\n",
    "    'Time Studying (hours)': [2, 3, 4, 5, 6, 7, 8, 9, 10, 11],\n",
    "    'Exam Score (out of 100)': [70, 75, 80, 85, 90, 95, 100, 105, 110, 115]\n",
    "})\n",
    "\n",
    "corr = df['Time Studying (hours)'].corr(df['Exam Score (out of 100)'], method='pearson')\n",
    "\n",
    "print(\"Pearson correlation coefficient: \", corr)\n"
   ]
  },
  {
   "cell_type": "markdown",
   "id": "08f11fb7-2ac2-42d1-b563-1fe78fcc0530",
   "metadata": {},
   "source": [
    "### Question 2"
   ]
  },
  {
   "cell_type": "code",
   "execution_count": null,
   "id": "9b355aa2-104d-42b1-ba5e-e04fcb30fc42",
   "metadata": {},
   "outputs": [],
   "source": [
    "Spearman's rank correlation coefficient is a non-parametric measure of the monotonic relationship between \n",
    "two variables. It measures the extent to which the variables tend to change together, but not necessarily \n",
    "at a constant rate. "
   ]
  },
  {
   "cell_type": "code",
   "execution_count": null,
   "id": "85836f06-7fb4-42b7-99a1-c7b4341b816d",
   "metadata": {},
   "outputs": [],
   "source": [
    " Spearman's rank correlation coefficient formula is :\n",
    "    ρ = 1 - 6 * Σd^2 / (n * (n^2 - 1))"
   ]
  },
  {
   "cell_type": "markdown",
   "id": "b0c95861-e6ec-47d2-9c1a-a9895e36ec9f",
   "metadata": {},
   "source": [
    "### Question 3"
   ]
  },
  {
   "cell_type": "code",
   "execution_count": 9,
   "id": "f343510e-89ef-4ca7-9627-8a86abf6950c",
   "metadata": {},
   "outputs": [],
   "source": [
    "import numpy as np\n",
    "from scipy.stats import pearsonr, spearmanr\n",
    "\n",
    "# Example data\n",
    "hours_of_exercise = np.array([5, 10, 2, 8, 6, 7, 1, 4, 3, 9, 5, 2, 6, 7, 8, 1, 3, 4, 9, 10, 5, 7, 3, 2, 6, 8, 9, 4, 1, 10, 2, 5, 7, 6, 8, 9, 3, 4, 1, 10, 2, 5, 6, 7, 8, 9, 3, 4, 1, 10])\n",
    "bmi = np.array([20, 28, 27, 29, 22, 24, 23, 31, 26, 21, 27, 28, 30, 22, 23, 24, 31, 29, 26, 29, 23, 21, 27, 30, 31, 24, 22, 29, 20, 26, 29, 28, 30, 31, 23, 24, 22, 29, 20, 26, 27, 28, 30, 31, 23, 24, 22, 29, 20, 26])\n",
    "\n",
    "\n"
   ]
  },
  {
   "cell_type": "code",
   "execution_count": 10,
   "id": "8be921cd-d8d5-4f5f-867b-2c60c1cc43b8",
   "metadata": {},
   "outputs": [
    {
     "data": {
      "text/plain": [
       "50"
      ]
     },
     "execution_count": 10,
     "metadata": {},
     "output_type": "execute_result"
    }
   ],
   "source": [
    "len(hours_of_exercise)\n"
   ]
  },
  {
   "cell_type": "code",
   "execution_count": 11,
   "id": "f9cd2c0f-f5ff-498a-a144-b607f3358632",
   "metadata": {},
   "outputs": [
    {
     "data": {
      "text/plain": [
       "50"
      ]
     },
     "execution_count": 11,
     "metadata": {},
     "output_type": "execute_result"
    }
   ],
   "source": [
    "len(bmi)"
   ]
  },
  {
   "cell_type": "code",
   "execution_count": 12,
   "id": "d886f1ea-cf98-4bf0-93ae-8874e40d013c",
   "metadata": {},
   "outputs": [
    {
     "name": "stdout",
     "output_type": "stream",
     "text": [
      "Pearson correlation coefficient: 0.014945362482305236\n",
      "Pearson correlation p-value: 0.9179531153638026\n",
      "Spearman's rank correlation: 0.0038785058158940914\n",
      "Spearman's rank correlation p-value: 0.978673810890361\n"
     ]
    }
   ],
   "source": [
    "# Calculate Pearson correlation coefficient\n",
    "pearson_corr, pearson_pval = pearsonr(hours_of_exercise, bmi)\n",
    "print(\"Pearson correlation coefficient:\", pearson_corr)\n",
    "print(\"Pearson correlation p-value:\", pearson_pval)\n",
    "\n",
    "# Calculate Spearman's rank correlation\n",
    "spearman_corr, spearman_pval = spearmanr(hours_of_exercise, bmi)\n",
    "print(\"Spearman's rank correlation:\", spearman_corr)\n",
    "print(\"Spearman's rank correlation p-value:\", spearman_pval)"
   ]
  },
  {
   "cell_type": "markdown",
   "id": "a42bfaba-f334-44e5-a4d4-b8fe22f5993e",
   "metadata": {},
   "source": [
    "### Question 4"
   ]
  },
  {
   "cell_type": "code",
   "execution_count": 13,
   "id": "92a278a0-8438-44a3-bbdd-61eb2a852ba9",
   "metadata": {},
   "outputs": [
    {
     "name": "stdout",
     "output_type": "stream",
     "text": [
      "Pearson correlation coefficient: 0.9920545591754268\n",
      "p-value: 4.551581160135747e-43\n"
     ]
    }
   ],
   "source": [
    "import numpy as np\n",
    "from scipy.stats import pearsonr\n",
    "\n",
    "# Example data\n",
    "tv_hours = np.array([2, 3, 4, 5, 1, 6, 2, 4, 3, 5, 7, 2, 4, 6, 1, 5, 2, 3, 4, 5, 1, 6, 2, 4, 3, 5, 7, 2, 4, 6, 1, 5, 2, 3, 4, 5, 1, 6, 2, 4, 3, 5, 7, 2, 4, 6, 1, 5])\n",
    "activity_level = np.array([3, 4, 5, 6, 2, 7, 3, 5, 4, 6, 8, 2, 5, 7, 2, 6, 3, 4, 5, 6, 2, 7, 3, 5, 4, 6, 8, 2, 5, 7, 2, 6, 3, 4, 5, 6, 2, 7, 3, 5, 4, 6, 8, 2, 5, 7, 2, 6])\n",
    "\n",
    "# Calculate Pearson correlation coefficient\n",
    "corr, pval = pearsonr(tv_hours, activity_level)\n",
    "\n",
    "# Print results\n",
    "print(\"Pearson correlation coefficient:\", corr)\n",
    "print(\"p-value:\", pval)\n"
   ]
  },
  {
   "cell_type": "markdown",
   "id": "f7703180-0e64-4b80-96b8-4fb7310306eb",
   "metadata": {},
   "source": [
    "### Question 5"
   ]
  },
  {
   "cell_type": "code",
   "execution_count": 15,
   "id": "a8c9f3bf-cd82-4d75-bac2-54f0eebadfb6",
   "metadata": {},
   "outputs": [
    {
     "name": "stdout",
     "output_type": "stream",
     "text": [
      "Pearson correlation coefficient: 0.9999999999999999\n"
     ]
    }
   ],
   "source": [
    "import numpy as np\n",
    "from scipy.stats import pearsonr\n",
    "\n",
    "# Example data\n",
    "sales_calls_per_day = np.array([20, 15, 25, 30, 10, 5, 15, 20, 25, 30, 10, 5, 15, 20, 25, 30, 10, 5, 15, 20, 25, 30, 10, 5, 15, 20, 25, 30, 10, 5])\n",
    "sales_per_week = np.array([4, 3, 5, 6, 2, 1, 3, 4, 5, 6, 2, 1, 3, 4, 5, 6, 2, 1, 3, 4, 5, 6, 2, 1, 3, 4, 5, 6, 2, 1])\n",
    "\n",
    "# Calculate Pearson correlation coefficient\n",
    "pearson_corr, _ = pearsonr(sales_calls_per_day, sales_per_week)\n",
    "print(\"Pearson correlation coefficient:\", pearson_corr)\n"
   ]
  },
  {
   "cell_type": "code",
   "execution_count": null,
   "id": "0630cada-c5e4-483e-be9b-feec90031e49",
   "metadata": {},
   "outputs": [],
   "source": []
  }
 ],
 "metadata": {
  "kernelspec": {
   "display_name": "Python 3 (ipykernel)",
   "language": "python",
   "name": "python3"
  },
  "language_info": {
   "codemirror_mode": {
    "name": "ipython",
    "version": 3
   },
   "file_extension": ".py",
   "mimetype": "text/x-python",
   "name": "python",
   "nbconvert_exporter": "python",
   "pygments_lexer": "ipython3",
   "version": "3.10.8"
  }
 },
 "nbformat": 4,
 "nbformat_minor": 5
}
