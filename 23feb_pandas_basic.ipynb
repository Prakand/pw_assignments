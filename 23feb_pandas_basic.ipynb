{
 "cells": [
  {
   "cell_type": "markdown",
   "id": "d0a9db02-7ee7-47ef-b9a6-58d957dbbcf1",
   "metadata": {},
   "source": [
    "### Question 1"
   ]
  },
  {
   "cell_type": "code",
   "execution_count": 1,
   "id": "38d62095-71fa-4309-9c6f-378b1003f8af",
   "metadata": {},
   "outputs": [
    {
     "name": "stdout",
     "output_type": "stream",
     "text": [
      "0     4\n",
      "1     8\n",
      "2    15\n",
      "3    16\n",
      "4    23\n",
      "5    42\n",
      "dtype: int64\n"
     ]
    }
   ],
   "source": [
    "import pandas as pd\n",
    "my_series = pd.Series([4, 8, 15, 16, 23, 42])\n",
    "print(my_series)\n"
   ]
  },
  {
   "cell_type": "markdown",
   "id": "3d9b6db5-17b3-4735-a17f-fa67d5b83546",
   "metadata": {},
   "source": [
    "### Question 2"
   ]
  },
  {
   "cell_type": "code",
   "execution_count": 2,
   "id": "6c8e3338-bc3b-4d47-9039-6df7fdd3eee4",
   "metadata": {},
   "outputs": [
    {
     "name": "stdout",
     "output_type": "stream",
     "text": [
      "0     1\n",
      "1     2\n",
      "2     3\n",
      "3     4\n",
      "4     5\n",
      "5     6\n",
      "6     7\n",
      "7     8\n",
      "8     9\n",
      "9    10\n",
      "dtype: int64\n"
     ]
    }
   ],
   "source": [
    "import pandas as pd\n",
    "\n",
    "my_list = [1, 2, 3, 4, 5, 6, 7, 8, 9, 10]\n",
    "my_series = pd.Series(my_list)\n",
    "\n",
    "\n",
    "print(my_series)\n"
   ]
  },
  {
   "cell_type": "markdown",
   "id": "15e1efa0-e654-4262-be72-1aa67ef3e805",
   "metadata": {},
   "source": [
    "### Question 3"
   ]
  },
  {
   "cell_type": "code",
   "execution_count": 3,
   "id": "0a8ad741-a921-405d-bf92-b9036e5edfbe",
   "metadata": {},
   "outputs": [
    {
     "name": "stdout",
     "output_type": "stream",
     "text": [
      "      name  age gender\n",
      "0    Alice   25      F\n",
      "1      Bob   30      M\n",
      "2  Charlie   27      F\n"
     ]
    }
   ],
   "source": [
    "import pandas as pd\n",
    "\n",
    "data = [\n",
    "    {'name': 'Alice', 'age': 25, 'gender': 'F'},\n",
    "    {'name': 'Bob', 'age': 30, 'gender': 'M'},\n",
    "    {'name': 'Charlie', 'age': 27, 'gender': 'F'}\n",
    "]\n",
    "\n",
    "# create the DataFrame\n",
    "df = pd.DataFrame(data)\n",
    "\n",
    "# print the DataFrame\n",
    "print(df)"
   ]
  },
  {
   "cell_type": "markdown",
   "id": "8c2617c5-36ab-4848-9818-48a2dfe8f134",
   "metadata": {},
   "source": [
    "### Question 4"
   ]
  },
  {
   "cell_type": "code",
   "execution_count": null,
   "id": "38287adb-e76f-456d-b347-e9aa83c99ebd",
   "metadata": {},
   "outputs": [],
   "source": [
    "# Dataframe\n",
    "In pandas, a DataFrame is a two-dimensional table-like data structure with labeled rows and columns. \n",
    "It is similar to a spreadsheet or a SQL table, where the rows represent observations and \n",
    "the columns represent variables.\n",
    "\n",
    "#Series\n",
    "On the other hand, a pandas Series is a one-dimensional labeled array capable of holding data of any type"
   ]
  },
  {
   "cell_type": "code",
   "execution_count": 4,
   "id": "e2795b22-39de-4169-b6e3-2b1d9cb2ae3a",
   "metadata": {},
   "outputs": [
    {
     "name": "stdout",
     "output_type": "stream",
     "text": [
      "      name  age gender\n",
      "0    Alice   25      F\n",
      "1      Bob   30      M\n",
      "2  Charlie   35      M\n",
      "************************\n",
      "0    25\n",
      "1    30\n",
      "2    35\n",
      "Name: age, dtype: int64\n"
     ]
    }
   ],
   "source": [
    "import pandas as pd\n",
    "data = {'name': ['Alice', 'Bob', 'Charlie'],\n",
    "        'age': [25, 30, 35],\n",
    "        'gender': ['F', 'M', 'M']}\n",
    "\n",
    "\n",
    "df = pd.DataFrame(data)\n",
    "\n",
    "ages = df['age']\n",
    "print(df)\n",
    "print(\"************************\")\n",
    "print(ages)\n"
   ]
  },
  {
   "cell_type": "markdown",
   "id": "4b319aa3-ba8a-465d-924a-1653e8a8b88b",
   "metadata": {},
   "source": [
    "### Question 5"
   ]
  },
  {
   "cell_type": "code",
   "execution_count": null,
   "id": "bea5b8cc-e43c-458e-95c0-de7730a3873f",
   "metadata": {},
   "outputs": [],
   "source": [
    "There are many functions available in Pandas to manipulate data in a DataFrame are:\n",
    "    drop()\n",
    "    fillna()\n",
    "    head()\n",
    "    info()\n",
    "    dtype()\n",
    "    unique()\n",
    "    value_counts()\n",
    "    describe()"
   ]
  },
  {
   "cell_type": "markdown",
   "id": "aae15aef-685c-4561-9a05-1673e6e8964d",
   "metadata": {},
   "source": [
    "### Question 6"
   ]
  },
  {
   "cell_type": "code",
   "execution_count": null,
   "id": "c87aebe8-aff7-4ee5-9462-3798e6b3d6ad",
   "metadata": {},
   "outputs": [],
   "source": [
    "Both Series and DataFrame are mutable in nature in pandas. However, Panel is deprecated since version\n",
    "0.25.0 and is not recommended to use."
   ]
  },
  {
   "cell_type": "markdown",
   "id": "fbcef352-a3c6-4127-9026-d556d53280f1",
   "metadata": {},
   "source": [
    "### Question 7"
   ]
  },
  {
   "cell_type": "code",
   "execution_count": 5,
   "id": "cbd32131-3ba3-42fe-8442-58dcea883ba7",
   "metadata": {},
   "outputs": [
    {
     "name": "stdout",
     "output_type": "stream",
     "text": [
      "      Name  Age  Gender\n",
      "0    Alice   25  Female\n",
      "1      Bob   30    Male\n",
      "2  Charlie   35    Male\n"
     ]
    }
   ],
   "source": [
    "import pandas as pd\n",
    "\n",
    "# Create three Series\n",
    "names = pd.Series(['Alice', 'Bob', 'Charlie'])\n",
    "ages = pd.Series([25, 30, 35])\n",
    "genders = pd.Series(['Female', 'Male', 'Male'])\n",
    "\n",
    "df = pd.concat([names, ages, genders], axis=1)\n",
    "\n",
    "df.columns = ['Name', 'Age', 'Gender']\n",
    "\n",
    "print(df)\n"
   ]
  },
  {
   "cell_type": "code",
   "execution_count": null,
   "id": "6e6e9522-1adb-46a8-89b3-ca583e82e9ce",
   "metadata": {},
   "outputs": [],
   "source": []
  }
 ],
 "metadata": {
  "kernelspec": {
   "display_name": "Python 3 (ipykernel)",
   "language": "python",
   "name": "python3"
  },
  "language_info": {
   "codemirror_mode": {
    "name": "ipython",
    "version": 3
   },
   "file_extension": ".py",
   "mimetype": "text/x-python",
   "name": "python",
   "nbconvert_exporter": "python",
   "pygments_lexer": "ipython3",
   "version": "3.10.8"
  }
 },
 "nbformat": 4,
 "nbformat_minor": 5
}
