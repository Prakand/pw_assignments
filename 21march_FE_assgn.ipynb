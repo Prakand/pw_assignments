{
 "cells": [
  {
   "cell_type": "markdown",
   "id": "8bb74d0c-9468-4166-934f-6207dbb13305",
   "metadata": {},
   "source": [
    "### Question 1"
   ]
  },
  {
   "cell_type": "code",
   "execution_count": null,
   "id": "853d04f4-24bb-42b3-8ac8-681d3b7d9b01",
   "metadata": {},
   "outputs": [],
   "source": [
    " We use ordinal encoding to preserve order of categorical data i.e. cold, warm, hot; low, medium, high. \n",
    "And we use label encoding or one hot for categorical data, where there's no order in data i.e. dog, cat, \n",
    "whale.\n",
    "\n",
    "The main difference between these two techniques is the way they assign values to categories"
   ]
  },
  {
   "cell_type": "code",
   "execution_count": null,
   "id": "0aec42aa-1f0d-42f0-ba7e-f50b2657c33b",
   "metadata": {},
   "outputs": [],
   "source": [
    "# how to choose one of them\n",
    "Suppose you have a categorical variable \"rating\" with three categories \"low\", \"medium\", and \"high\", and\n",
    "you want to use this variable to predict a target variable using a machine learning model. In this case,\n",
    "you might choose to use label encoding because the values assigned to each category are arbitrary and do\n",
    "not have any inherent order or rank. Label encoding would assign the values 0, 1, and 2 to the categories\n",
    "\"low\", \"medium\", and \"high\", respectively, and the machine learning model would treat these values as\n",
    "numeric inputs.\n",
    "\n",
    "On the other hand, suppose you have a categorical variable \"age group\" with categories \"child\", \"teenager\",\n",
    "\"young adult\", \"adult\", and \"senior\", and you want to use this variable to predict a target variable.\n",
    "In this case, you might choose to use ordinal encoding because the categories have a natural order or rank.\n",
    "Ordinal encoding would assign values 1, 2, 3, 4, and 5 to the categories, respectively, and the \n",
    "machine learning model would be able to capture the inherent order of the categories"
   ]
  },
  {
   "cell_type": "markdown",
   "id": "cd76804e-a0a3-4cee-ac72-ab0096aafdc1",
   "metadata": {},
   "source": [
    "### Question 2"
   ]
  },
  {
   "cell_type": "code",
   "execution_count": null,
   "id": "dc48871d-1ce3-43d6-8c1f-640b924313bc",
   "metadata": {},
   "outputs": [],
   "source": [
    "Target Guided Ordinal Encoding is a technique used to encode categorical variables based on the target \n",
    "variable, where the values are assigned to the categories based on the relationship between the category \n",
    "and the target variable. The purpose of this encoding technique is to capture the information contained in \n",
    "the categorical variable that is relevant to the target variable, which can improve the performance of\n",
    "machine learning models."
   ]
  },
  {
   "cell_type": "code",
   "execution_count": null,
   "id": "c915cd6d-7fa3-439e-b79e-2b35fc6e12d4",
   "metadata": {},
   "outputs": [],
   "source": [
    "# Example for target guided ordinal encoding\n",
    "\n",
    "Suppose you have a dataset of customers who have purchased products from an online store, and you want to \n",
    "build a machine learning model to predict whether a customer will make another purchase in the future. \n",
    "One of the features in the dataset is \"product category\", which has several categories such as \"electronics\", \n",
    "\"clothing\", \"home decor\", and \"books\". You suspect that the category of the product a customer has purchased\n",
    "might be a relevant factor in predicting whether they will make another purchase in the future.\n",
    "\n",
    "To encode this categorical feature, you might use Target Guided Ordinal Encoding, which would assign an \n",
    "ordinal value to each category based on the average purchase rate for each category. For example,\n",
    "if \"electronics\" has the highest purchase rate, it would be assigned the value 1, followed by \"clothing\" \n",
    "with value 2, \"home decor\" with value 3, and \"books\" with value 4. This encoding would capture the \n",
    "information contained in the \"product category\" feature that is relevant to the target variable \n",
    "(purchase rate), and the resulting encoded feature would be used as input to the machine learning model"
   ]
  },
  {
   "cell_type": "markdown",
   "id": "5ba8afed-2681-4899-be15-b97dc0d0041f",
   "metadata": {},
   "source": [
    "### Question 3"
   ]
  },
  {
   "cell_type": "code",
   "execution_count": null,
   "id": "83614f7c-2d2d-4722-95ab-60a50c2c27a5",
   "metadata": {},
   "outputs": [],
   "source": [
    "Covariance is a measure of the degree to which two random variables vary together. \n",
    "It measures the extent to which two variables are related, and in what way. A positive covariance \n",
    "indicates that the two variables tend to vary together, while a negative covariance indicates that they \n",
    "tend to vary in opposite directions."
   ]
  },
  {
   "cell_type": "code",
   "execution_count": null,
   "id": "86cf9f4e-fc16-49ad-b82b-2ef1c26fccc3",
   "metadata": {},
   "outputs": [],
   "source": [
    "Covariance is important in statistical analysis because it provides insights into the relationships between\n",
    "variables. It can help us to identify trends and patterns in data, and to understand how changes in one \n",
    "variable affect another. Covariance is used in many different statistical analyses, including regression \n",
    "analysis, factor analysis, and principal component analysis. It is a fundamental concept in statistics and\n",
    "is used extensively in data analysis, machine learning, and other areas of research."
   ]
  },
  {
   "cell_type": "markdown",
   "id": "63ff64ec-4923-4aa8-8ef5-2405a63f51b9",
   "metadata": {},
   "source": [
    "### Question 4"
   ]
  },
  {
   "cell_type": "code",
   "execution_count": 3,
   "id": "139c898a-715a-4bb1-bf4d-fa1cf9a4ded4",
   "metadata": {},
   "outputs": [],
   "source": [
    "import pandas as pd\n",
    "from sklearn.preprocessing import LabelEncoder"
   ]
  },
  {
   "cell_type": "code",
   "execution_count": 4,
   "id": "6cb6ef2b-3e3a-431d-b470-03849ec73440",
   "metadata": {},
   "outputs": [],
   "source": [
    "data = {'Color': ['red', 'green', 'blue', 'green', 'red', 'blue'],\n",
    "        'Size': ['small', 'medium', 'large', 'small', 'medium', 'large'],\n",
    "        'Material': ['wood', 'metal', 'plastic', 'wood', 'plastic', 'metal']}\n",
    "df = pd.DataFrame(data)"
   ]
  },
  {
   "cell_type": "code",
   "execution_count": 5,
   "id": "a5a58e1f-6fc5-4ccc-b11b-ba90792f980f",
   "metadata": {},
   "outputs": [],
   "source": [
    "encoder = LabelEncoder()"
   ]
  },
  {
   "cell_type": "code",
   "execution_count": 6,
   "id": "829372c9-4a0d-41c1-ad11-7824b048a797",
   "metadata": {},
   "outputs": [],
   "source": [
    "df['Color']=encoder.fit_transform(df['Color'])\n",
    "df['Size']=encoder.fit_transform(df['Size'])\n",
    "df['Material']=encoder.fit_transform(df['Material'])"
   ]
  },
  {
   "cell_type": "code",
   "execution_count": 7,
   "id": "5f4e3542-f976-4229-938a-e3597044bbc4",
   "metadata": {},
   "outputs": [
    {
     "data": {
      "text/html": [
       "<div>\n",
       "<style scoped>\n",
       "    .dataframe tbody tr th:only-of-type {\n",
       "        vertical-align: middle;\n",
       "    }\n",
       "\n",
       "    .dataframe tbody tr th {\n",
       "        vertical-align: top;\n",
       "    }\n",
       "\n",
       "    .dataframe thead th {\n",
       "        text-align: right;\n",
       "    }\n",
       "</style>\n",
       "<table border=\"1\" class=\"dataframe\">\n",
       "  <thead>\n",
       "    <tr style=\"text-align: right;\">\n",
       "      <th></th>\n",
       "      <th>Color</th>\n",
       "      <th>Size</th>\n",
       "      <th>Material</th>\n",
       "    </tr>\n",
       "  </thead>\n",
       "  <tbody>\n",
       "    <tr>\n",
       "      <th>0</th>\n",
       "      <td>2</td>\n",
       "      <td>2</td>\n",
       "      <td>2</td>\n",
       "    </tr>\n",
       "    <tr>\n",
       "      <th>1</th>\n",
       "      <td>1</td>\n",
       "      <td>1</td>\n",
       "      <td>0</td>\n",
       "    </tr>\n",
       "    <tr>\n",
       "      <th>2</th>\n",
       "      <td>0</td>\n",
       "      <td>0</td>\n",
       "      <td>1</td>\n",
       "    </tr>\n",
       "    <tr>\n",
       "      <th>3</th>\n",
       "      <td>1</td>\n",
       "      <td>2</td>\n",
       "      <td>2</td>\n",
       "    </tr>\n",
       "    <tr>\n",
       "      <th>4</th>\n",
       "      <td>2</td>\n",
       "      <td>1</td>\n",
       "      <td>1</td>\n",
       "    </tr>\n",
       "    <tr>\n",
       "      <th>5</th>\n",
       "      <td>0</td>\n",
       "      <td>0</td>\n",
       "      <td>0</td>\n",
       "    </tr>\n",
       "  </tbody>\n",
       "</table>\n",
       "</div>"
      ],
      "text/plain": [
       "   Color  Size  Material\n",
       "0      2     2         2\n",
       "1      1     1         0\n",
       "2      0     0         1\n",
       "3      1     2         2\n",
       "4      2     1         1\n",
       "5      0     0         0"
      ]
     },
     "execution_count": 7,
     "metadata": {},
     "output_type": "execute_result"
    }
   ],
   "source": [
    "df"
   ]
  },
  {
   "cell_type": "markdown",
   "id": "a22d87ef-37a5-49ce-bbc4-e15bd18eaba8",
   "metadata": {},
   "source": [
    "### Question 5"
   ]
  },
  {
   "cell_type": "code",
   "execution_count": 8,
   "id": "efec60ac-5bee-4b89-a71a-1ccd5977aa2c",
   "metadata": {},
   "outputs": [
    {
     "name": "stdout",
     "output_type": "stream",
     "text": [
      "[[6.25e+01 8.75e+04 2.50e+01]\n",
      " [8.75e+04 1.25e+08 3.50e+04]\n",
      " [2.50e+01 3.50e+04 1.00e+01]]\n"
     ]
    }
   ],
   "source": [
    "import numpy as np\n",
    "\n",
    "# Create a sample dataset\n",
    "age = [30, 40, 25, 35, 45]\n",
    "income = [50000, 60000, 40000, 55000, 70000]\n",
    "education = [12, 16, 10, 14, 18]\n",
    "\n",
    "\n",
    "data = np.array([age, income, education])\n",
    "\n",
    "cov_matrix = np.cov(data)\n",
    "\n",
    "print(cov_matrix)\n"
   ]
  },
  {
   "cell_type": "markdown",
   "id": "766d5374-9dd8-45c1-af8d-8d2d9726e265",
   "metadata": {},
   "source": [
    "### Question 6"
   ]
  },
  {
   "cell_type": "code",
   "execution_count": null,
   "id": "ce9f97e0-bd48-4925-83eb-2045f773e11d",
   "metadata": {},
   "outputs": [],
   "source": [
    "For categorical variables like \"Gender\", \"Education Level\", and \"Employment Status\", we can use different \n",
    "encoding methods depending on the nature of the variable and the algorithm we are planning to use. \n",
    "Here are some possible encoding methods and why we might choose them for each variable:"
   ]
  },
  {
   "cell_type": "code",
   "execution_count": null,
   "id": "3e7df7a2-6674-4cb6-9f8f-41bd8e5ffe5d",
   "metadata": {},
   "outputs": [],
   "source": [
    "# for Gender:\n",
    " \"Gender\" has only two possible values (Male and Female), we can use binary encoding or label encoding to \n",
    "represent the variable. Binary encoding would encode Male as 0 and Female as 1, while label encoding \n",
    "would encode Male as 0 and Female as 1. "
   ]
  },
  {
   "cell_type": "code",
   "execution_count": null,
   "id": "11fb9795-94df-4b98-a333-db458a6e1ad8",
   "metadata": {},
   "outputs": [],
   "source": [
    "# for Education:\n",
    "Since \"Education Level\" has multiple categories, we can use one-hot encoding or target encoding to represent\n",
    "the variable. One-hot encoding would create a binary variable for each category, with a value of 1 \n",
    "indicating that the observation belongs to that category and a value of 0 indicating that it does not. \n",
    "Target encoding would replace each category with the mean of the target variable for that category.\n",
    "One-hot encoding might be preferred if we are using a tree-based model that can handle high-dimensional data,\n",
    "while target encoding might be preferred if we are using a linear model that assumes a smooth relationship\n",
    "between the variable and the outcome."
   ]
  },
  {
   "cell_type": "code",
   "execution_count": null,
   "id": "1f3186ff-9713-48c3-bdd6-110d2306dec3",
   "metadata": {},
   "outputs": [],
   "source": [
    "# for Employment Status\n",
    "\"Employment Status\" has multiple categories, we can use one-hot encoding or target encoding to represent \n",
    "the variable. One-hot encoding would create a binary variable for each category, with a value of 1 \n",
    "indicating that the observation belongs to that category and a value of 0 indicating that it does not. \n",
    "Target encoding would replace each category with the mean of the target variable for that category. \n",
    "One-hot encoding might be preferred if we are using a tree-based model that can handle high-dimensional data,\n",
    "while target encoding might be preferred if we are using a linear model that assumes a smooth relationship\n",
    "between the variable and the outcome"
   ]
  },
  {
   "cell_type": "code",
   "execution_count": null,
   "id": "3a855fb6-6b46-4ac7-a283-f90013e43872",
   "metadata": {},
   "outputs": [],
   "source": []
  },
  {
   "cell_type": "code",
   "execution_count": null,
   "id": "f3a7efc0-b688-4fcb-a135-07e98ccf0a1e",
   "metadata": {},
   "outputs": [],
   "source": []
  }
 ],
 "metadata": {
  "kernelspec": {
   "display_name": "Python 3 (ipykernel)",
   "language": "python",
   "name": "python3"
  },
  "language_info": {
   "codemirror_mode": {
    "name": "ipython",
    "version": 3
   },
   "file_extension": ".py",
   "mimetype": "text/x-python",
   "name": "python",
   "nbconvert_exporter": "python",
   "pygments_lexer": "ipython3",
   "version": "3.10.8"
  }
 },
 "nbformat": 4,
 "nbformat_minor": 5
}
