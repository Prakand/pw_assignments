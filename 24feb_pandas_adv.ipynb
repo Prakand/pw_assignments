{
 "cells": [
  {
   "cell_type": "markdown",
   "id": "828b0a3d-5fc5-4657-8234-e3cf25b13450",
   "metadata": {},
   "source": [
    "### Question 1"
   ]
  },
  {
   "cell_type": "code",
   "execution_count": null,
   "id": "4ef1424e-e77e-4d88-8571-3382cdebf099",
   "metadata": {},
   "outputs": [],
   "source": [
    "import pandas as pd\n",
    "df = pd.read_csv('data.csv')\n",
    "\n",
    "df.head()\n",
    "\n",
    "df.describe()\n",
    "\n",
    "df.groupby()\n",
    "\n",
    "df.merge()\n"
   ]
  },
  {
   "cell_type": "markdown",
   "id": "730b78ce-eb74-4e5a-a02c-c4c2fb5ee0e8",
   "metadata": {},
   "source": [
    "### Question 2"
   ]
  },
  {
   "cell_type": "code",
   "execution_count": 3,
   "id": "332feef9-8211-42ee-ab70-e02d14fa57ac",
   "metadata": {},
   "outputs": [],
   "source": [
    "import pandas as pd\n",
    "\n",
    "def reindex_df(df):\n",
    "    \n",
    "    n = len(df)\n",
    "\n",
    "    new_index = pd.RangeIndex(start=1, stop=2*n, step=2)\n",
    "    \n",
    "    df = df.reindex(new_index)\n",
    "    return df\n"
   ]
  },
  {
   "cell_type": "code",
   "execution_count": 4,
   "id": "30f213e1-3c7c-4734-8e12-88e1659697d0",
   "metadata": {},
   "outputs": [
    {
     "name": "stdout",
     "output_type": "stream",
     "text": [
      "   A  B  C\n",
      "0  1  4  7\n",
      "1  2  5  8\n",
      "2  3  6  9\n",
      "     A    B    C\n",
      "1  2.0  5.0  8.0\n",
      "3  NaN  NaN  NaN\n",
      "5  NaN  NaN  NaN\n"
     ]
    }
   ],
   "source": [
    "df = pd.DataFrame({'A': [1, 2, 3], 'B': [4, 5, 6], 'C': [7, 8, 9]})\n",
    "print(df)\n",
    "\n",
    "df = reindex_df(df)\n",
    "print(df)\n"
   ]
  },
  {
   "cell_type": "markdown",
   "id": "32ad6ffb-a1cf-4a0e-85b3-2111bd8805c9",
   "metadata": {},
   "source": [
    "### Question 3"
   ]
  },
  {
   "cell_type": "code",
   "execution_count": 15,
   "id": "2e642019-b144-4002-827c-31ecf57aa1cc",
   "metadata": {},
   "outputs": [],
   "source": [
    "import pandas as pd\n",
    "\n",
    "def sun_three_num(df):\n",
    "    values = df['Values'].iloc[:3]\n",
    "    total = sum(values)\n",
    "    print(f\"the sum of first three values is {total}\")\n"
   ]
  },
  {
   "cell_type": "code",
   "execution_count": 16,
   "id": "a14daf03-38e5-4c07-97be-964ead4d4bf8",
   "metadata": {},
   "outputs": [
    {
     "name": "stdout",
     "output_type": "stream",
     "text": [
      "the sum of first three values is 60\n"
     ]
    }
   ],
   "source": [
    "\n",
    "df = pd.DataFrame({\n",
    "    'Values': [10, 20, 30, 40, 50]\n",
    "})\n",
    "\n",
    "\n",
    "sun_three_num(df)\n"
   ]
  },
  {
   "cell_type": "markdown",
   "id": "0729f3bb-d320-46ee-860b-580cdf243c83",
   "metadata": {},
   "source": [
    "### Question 4"
   ]
  },
  {
   "cell_type": "code",
   "execution_count": 18,
   "id": "55d09ec2-2e42-4895-8c76-920f7e9873e5",
   "metadata": {},
   "outputs": [],
   "source": [
    "import pandas as pd\n",
    "def count_text_num(df):\n",
    "    df['Word_Count'] = df['Text'].str.split().str.len()\n",
    "    return df\n",
    "    "
   ]
  },
  {
   "cell_type": "markdown",
   "id": "f8104a77-f583-41e9-9fda-5b9f04005a8f",
   "metadata": {},
   "source": [
    "### Question 5"
   ]
  },
  {
   "cell_type": "code",
   "execution_count": null,
   "id": "0b345d39-9fd7-4192-bcea-0ac1edb81ee8",
   "metadata": {},
   "outputs": [],
   "source": [
    "df.size returns the total number of elements in the DataFrame.\n",
    "\n",
    "# shape\n",
    "df.shape returns a tuple of the number of rows and columns in the DataFrame."
   ]
  },
  {
   "cell_type": "markdown",
   "id": "224bd24b-91bf-4f25-a585-24f7e8a96a7f",
   "metadata": {},
   "source": [
    "### Question 6"
   ]
  },
  {
   "cell_type": "code",
   "execution_count": null,
   "id": "9f6d8ad3-3ccd-46e9-8140-6b08e41ccba9",
   "metadata": {},
   "outputs": [],
   "source": [
    "import pandas as pd\n",
    "\n",
    "df = pd.read_excel('file.xlsc')"
   ]
  },
  {
   "cell_type": "markdown",
   "id": "a6c8d0a0-c4ce-436c-98df-4b6eb9c6b737",
   "metadata": {},
   "source": [
    "### Question 7"
   ]
  },
  {
   "cell_type": "code",
   "execution_count": 20,
   "id": "a1c21449-e91d-4347-979a-3f8a36076055",
   "metadata": {},
   "outputs": [
    {
     "name": "stdout",
     "output_type": "stream",
     "text": [
      "                Email  Username\n",
      "0  john.doe@gmail.com  john.doe\n",
      "1   prakand@gmail.com   prakand\n",
      "2    mishra@gmail.com    mishra\n"
     ]
    }
   ],
   "source": [
    "import pandas as pd\n",
    "\n",
    "df = pd.DataFrame({'Email': ['john.doe@gmail.com', 'prakand@gmail.com', 'mishra@gmail.com']})\n",
    "\n",
    "def extract_username(email):\n",
    "    return email.split('@')[0]\n",
    "\n",
    "df['Username'] = df['Email'].apply(lambda x: extract_username(x))\n",
    "\n",
    "print(df)\n"
   ]
  },
  {
   "cell_type": "markdown",
   "id": "34ecf6e4-7af3-455f-8881-7bbcdabad17d",
   "metadata": {},
   "source": [
    "### Question 8"
   ]
  },
  {
   "cell_type": "code",
   "execution_count": 21,
   "id": "2cff0ac7-3412-4f77-a286-0c7e78c28a77",
   "metadata": {},
   "outputs": [],
   "source": [
    "import pandas as pd\n",
    "\n",
    "def select_rows(df):\n",
    "    selected_rows = df[(df['A'] > 5) & (df['B'] < 10)]\n",
    "    return selected_rows\n"
   ]
  },
  {
   "cell_type": "code",
   "execution_count": 22,
   "id": "6ca55e16-6944-478e-a36a-fffcdebad498",
   "metadata": {},
   "outputs": [
    {
     "name": "stdout",
     "output_type": "stream",
     "text": [
      "   A  B  C\n",
      "1  8  2  7\n",
      "2  6  9  4\n",
      "4  9  1  2\n"
     ]
    }
   ],
   "source": [
    "df = pd.DataFrame({'A': [3, 8, 6, 2, 9], 'B': [5, 2, 9, 3, 1], 'C': [1, 7, 4, 5, 2]})\n",
    "selected_rows = select_rows(df)\n",
    "print(selected_rows)\n"
   ]
  },
  {
   "cell_type": "markdown",
   "id": "bb21d07e-c944-4ad2-9630-31a534d3df8c",
   "metadata": {},
   "source": [
    "### Question 9"
   ]
  },
  {
   "cell_type": "code",
   "execution_count": null,
   "id": "d4f244d5-63b1-42d1-82be-93bc1519d0cf",
   "metadata": {},
   "outputs": [],
   "source": [
    "import pandas as pd\n",
    "\n",
    "def calculate_moving_average(df):\n",
    "    df['MovingAverage'] = df['Sales'].rolling(window=7, min_periods=1).mean()\n",
    "    return df\n"
   ]
  },
  {
   "cell_type": "markdown",
   "id": "68f78331-609c-45bd-95a4-f959021845c1",
   "metadata": {},
   "source": [
    "### Question 12"
   ]
  },
  {
   "cell_type": "code",
   "execution_count": null,
   "id": "35f17c2e-4c32-4be2-abb4-4e5061ed3114",
   "metadata": {},
   "outputs": [],
   "source": [
    "import pandas as pd\n",
    "\n",
    "def select_rows_by_date_range(df):\n",
    "    df['Date'] = pd.to_datetime(df['Date']) # convert 'Date' column to datetime format\n",
    "    mask = (df['Date'] >= '2023-01-01') & (df['Date'] <= '2023-01-31') # create boolean mask\n",
    "    selected_rows = df.loc[mask] # select rows based on mask\n",
    "    return selected_rows\n"
   ]
  },
  {
   "cell_type": "markdown",
   "id": "79111121-305f-4f6b-b283-58b0863d9bd4",
   "metadata": {},
   "source": [
    "### Question 13"
   ]
  },
  {
   "cell_type": "code",
   "execution_count": 23,
   "id": "62923b77-d3bf-4e09-8eb9-c31cc5ed172d",
   "metadata": {},
   "outputs": [],
   "source": [
    "import pandas as pd"
   ]
  },
  {
   "cell_type": "markdown",
   "id": "19512dad-f154-434d-b951-49d70b8f4de9",
   "metadata": {},
   "source": [
    "### Question 10"
   ]
  },
  {
   "cell_type": "code",
   "execution_count": null,
   "id": "87b41e76-66cf-4425-8b58-5b9b3560379c",
   "metadata": {},
   "outputs": [],
   "source": [
    "import pandas as pd\n",
    "\n",
    "def calculate_moving_average(df):\n",
    "    df['MovingAverage'] = df['Sales'].rolling(window=7, min_periods=1).mean()\n",
    "    return df\n"
   ]
  }
 ],
 "metadata": {
  "kernelspec": {
   "display_name": "Python 3 (ipykernel)",
   "language": "python",
   "name": "python3"
  },
  "language_info": {
   "codemirror_mode": {
    "name": "ipython",
    "version": 3
   },
   "file_extension": ".py",
   "mimetype": "text/x-python",
   "name": "python",
   "nbconvert_exporter": "python",
   "pygments_lexer": "ipython3",
   "version": "3.10.8"
  }
 },
 "nbformat": 4,
 "nbformat_minor": 5
}
