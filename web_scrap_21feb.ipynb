{
 "cells": [
  {
   "cell_type": "markdown",
   "id": "17ff701c-0f04-4262-955d-ddf568f99cf5",
   "metadata": {},
   "source": [
    "### Question 1"
   ]
  },
  {
   "cell_type": "code",
   "execution_count": 1,
   "id": "9e7a7e90-648c-48ca-9a74-eebca34201bb",
   "metadata": {},
   "outputs": [],
   "source": [
    "# what is web scrapping:\n",
    "Web scraping is the process of extracting data from websites using automated software tools or bots.\n",
    "The extracted data can then be saved in a structured format, such as a CSV file or a database, for further\n",
    "analysis or manipulation"
   ]
  },
  {
   "cell_type": "code",
   "execution_count": null,
   "id": "a01ee9a3-7ff2-4321-a2b1-1396aefae5b3",
   "metadata": {},
   "outputs": [],
   "source": [
    "# why it is used:\n",
    "1-Data mining\n",
    "2-Business intelligence & analytics\n",
    "3-Content Monitering"
   ]
  },
  {
   "cell_type": "code",
   "execution_count": null,
   "id": "ed52d688-f813-4386-be27-50e303e3eefb",
   "metadata": {},
   "outputs": [],
   "source": [
    "# 3 area where web scrapp used to get data\n",
    "1-E-commerse\n",
    "2-Social Media\n",
    "3-Research"
   ]
  },
  {
   "cell_type": "markdown",
   "id": "aad3293f-3d19-4c00-96d1-04a4f5c345e8",
   "metadata": {},
   "source": [
    "### Question 2"
   ]
  },
  {
   "cell_type": "code",
   "execution_count": null,
   "id": "a04b3683-eaee-44ea-91db-a38a33e2bcc2",
   "metadata": {},
   "outputs": [],
   "source": [
    "1-Manual copy and pasting\n",
    "2-HTML parsing\n",
    "3-Web API\n",
    "4-Browser extension\n",
    "5-Machine Learning Techniques"
   ]
  },
  {
   "cell_type": "markdown",
   "id": "79c272ce-18f8-4261-982a-01d502f7fd71",
   "metadata": {},
   "source": [
    "### Question 3"
   ]
  },
  {
   "cell_type": "code",
   "execution_count": null,
   "id": "9cf34ce6-a2fa-450d-830e-68257243dca1",
   "metadata": {},
   "outputs": [],
   "source": [
    "Beautiful Soup is a Python library used for web scraping purposes.\n",
    "It allows developers to extract data from HTML and XML files in a simple and easy way.\n",
    "Beautiful Soup is widely used for parsing and navigating through HTML documents and \n",
    "extracting relevant information"
   ]
  },
  {
   "cell_type": "markdown",
   "id": "5142b97f-806b-4947-886b-926fe9170c43",
   "metadata": {},
   "source": [
    "### Question 4"
   ]
  },
  {
   "cell_type": "code",
   "execution_count": null,
   "id": "feee7b65-22b5-40f7-a2b6-0eec896ffa12",
   "metadata": {},
   "outputs": [],
   "source": [
    "Flask is a versatile web framework that can be used in a variety of web scraping projects\n",
    "to create web applications, user interfaces, and APIs. \n",
    "Its simplicity and flexibility make it a popular choice for web scraping developers."
   ]
  },
  {
   "cell_type": "markdown",
   "id": "1d6533b7-c6ec-4ae6-8e38-9aef7cea194c",
   "metadata": {},
   "source": [
    "### Question 5"
   ]
  },
  {
   "cell_type": "code",
   "execution_count": null,
   "id": "d89d8e3f-c79c-4d9d-954a-776ee0840f45",
   "metadata": {},
   "outputs": [],
   "source": [
    "Amazon services used in this project is :\n",
    "    1-Codepipeline:\n",
    "        CodePipeline is a continuous delivery service provided by Amazon Web Services (AWS) \n",
    "        that automates the build, test, and deployment of applications. It provides a simple way to manage the\n",
    "        release process for applications, enabling developers to automate the entire workflow, \n",
    "        from code changes to the release of the application\n",
    "    2-Beanstack :\n",
    "        Elastic Beanstalk is another AWS service that simplifies the deployment and management of \n",
    "        web applications. It allows developers to deploy web applications to a scalable, managed \n",
    "        infrastructure that can automatically handle the deployment, scaling, and monitoring of the \n",
    "        application."
   ]
  }
 ],
 "metadata": {
  "kernelspec": {
   "display_name": "Python 3 (ipykernel)",
   "language": "python",
   "name": "python3"
  },
  "language_info": {
   "codemirror_mode": {
    "name": "ipython",
    "version": 3
   },
   "file_extension": ".py",
   "mimetype": "text/x-python",
   "name": "python",
   "nbconvert_exporter": "python",
   "pygments_lexer": "ipython3",
   "version": "3.10.8"
  }
 },
 "nbformat": 4,
 "nbformat_minor": 5
}
